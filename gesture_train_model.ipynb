{
 "cells": [
  {
   "cell_type": "markdown",
   "metadata": {},
   "source": [
    "## Model Training\n",
    "\n",
    "In this file, we create an MLP model using Keras. As an example program, we are training a model which can classify a hand gesture between one and five, based on the number of fingers that are held up. We train this model using the training data we collected in 'gesture_data_collection.ipynb'. Once the model is sufficiently well trained, we test the performance of the model."
   ]
  },
  {
   "cell_type": "code",
   "execution_count": 46,
   "metadata": {},
   "outputs": [],
   "source": [
    "import mediapipe as mp\n",
    "import cv2\n",
    "import os\n",
    "import csv\n",
    "import numpy as np\n",
    "import ast\n",
    "import random\n",
    "from tensorflow import keras\n",
    "from keras.models import Sequential\n",
    "from keras.layers import Dense\n",
    "from keras.layers import Dropout\n",
    "from keras.regularizers import l2\n",
    "from keras.utils import np_utils\n",
    "import kerastuner as kt\n",
    "import matplotlib.pyplot as plt\n",
    "\n",
    "#Use this list to add the class names for each gesture\n",
    "num_classes = 6\n",
    "class_names = [\"one\", \"two\", \"three\", \"four\", \"five\", \"other\"] "
   ]
  },
  {
   "cell_type": "markdown",
   "metadata": {},
   "source": [
    "In the below cell, we retrieve the training data from the csv files and prepare it so that it can be used to train the model. The training samples from all the files are extracted into a list and the list is shuffled. Each training sample(each item in the list) contains the following:\n",
    "- The class label, \n",
    "- The handedness (left or right),\n",
    "- 21 xyz coordinates, as string representations of lists, which represent the 21 landmarks detected on the hand. \n",
    "\n",
    "Firstly, the labels are separated from each training sample into a separate numpy array. One-hot-encoding is done on this array so that it matches the softmax output of the model. Next, the landmark coordinates are separated from the handedness. The landmark coordinates are converted from string representations of lists to actual python lists. That is, for each xyz coordinate we do the following conversion:\n",
    "\n",
    "\"[x, y, z]\" &rarr; [x, y, z]\n",
    "\n",
    "Next, for each training sample, we normalize the x and y coordinates. This is done so that the distance between the camera and the hand does not have a big influence on the prediction. \n",
    "\n",
    "We flatten the 21 xyz coordinates into a single array of lenth 63. Lastly, We concatenate the handedness variables to their respective array. As we can see after running the cell, our input array consists of 656 training samples of length 64 each."
   ]
  },
  {
   "cell_type": "code",
   "execution_count": 48,
   "metadata": {},
   "outputs": [
    {
     "name": "stdout",
     "output_type": "stream",
     "text": [
      "(656, 64)\n"
     ]
    }
   ],
   "source": [
    "data = []\n",
    "for i in range(num_classes):\n",
    "    reader = csv.reader(open(\"training_samples/training_\" + str(i) + \n",
    "                             \".csv\", \"r\"), delimiter=\",\")\n",
    "    data += list(reader)    \n",
    "\n",
    "random.shuffle(data)\n",
    "\n",
    "labels = []\n",
    "handedness = []\n",
    "hand_samples = []\n",
    "\n",
    "for row in data:\n",
    "    labels.append(row[0])\n",
    "    handedness.append(row[1])\n",
    "    hand_samples.append(row[2:])\n",
    "\n",
    "# Extraxt labels and convert them to categorical labels\n",
    "labels = np.array(labels)\n",
    "y = np_utils.to_categorical(labels)\n",
    "\n",
    "handedness = np.array(handedness).astype('int')\n",
    "handedness = handedness.reshape(handedness.shape[0], 1) \n",
    "\n",
    "# Convert string representation of list to python list for every landmark coordinate\n",
    "for sample in hand_samples:\n",
    "    for ix, landmark in enumerate(sample):\n",
    "        sample[ix] = ast.literal_eval(landmark)\n",
    "        \n",
    "# Adjust coordinate values for each sample according to that sample's bounding box\n",
    "hand_samples = np.array(hand_samples)\n",
    "for ix, sample in enumerate(hand_samples):   \n",
    "    x_max, x_min = np.max(sample[:,0]), np.min(sample[:,0])\n",
    "    y_max, y_min = np.max(sample[:,1]), np.min(sample[:,1])\n",
    "    x_diff = x_max - x_min\n",
    "    y_diff = y_max - y_min\n",
    "    hand_samples[ix][:,0] = (hand_samples[ix][:,0] - x_min)/x_diff\n",
    "    hand_samples[ix][:,1] = (hand_samples[ix][:,1] - y_min)/y_diff\n",
    "\n",
    "# Combine handedness with landmark coordinates to prepare training input\n",
    "hand_samples = hand_samples.reshape(hand_samples.shape[0], 63)\n",
    "x = np.concatenate((handedness, hand_samples), axis = 1)\n",
    "\n",
    "#unique, counts = np.unique(labels, return_counts=True)\n",
    "#print(np.asarray((unique, counts)).T)\n",
    "\n",
    "print(x.shape)"
   ]
  },
  {
   "cell_type": "markdown",
   "metadata": {},
   "source": [
    "In the below cell, we develop an MLP model with 3 hidden layers that use RELU activation. Dropout is applied on each hidden layer to prevent overfitting. The output layer is a softmax layer with the same number of nodes as the number of classes.\n",
    "\n",
    "This model is trained using categorical crossentropy as the loss function, and adam optimizer to adjust the model parameters. The plot_result function plots the training and validation accuracy recorded after every epoch."
   ]
  },
  {
   "cell_type": "code",
   "execution_count": null,
   "metadata": {},
   "outputs": [],
   "source": [
    "model = Sequential()\n",
    "model.add(Dense(256, activation = 'relu'))\n",
    "model.add(Dropout(0.5))\n",
    "model.add(Dense(128, activation = 'relu'))\n",
    "model.add(Dropout(0.5))\n",
    "model.add(Dense(32, activation = 'relu'))\n",
    "model.add(Dropout(0.5))\n",
    "model.add(Dense(num_classes, activation = 'softmax'))\n",
    "\n",
    "model.compile(loss='categorical_crossentropy', optimizer='adam', metrics=['accuracy'])\n",
    "\n",
    "epochs = 750\n",
    "history = model.fit(x, y, epochs = epochs, validation_split = 0.2, batch_size = None)"
   ]
  },
  {
   "cell_type": "code",
   "execution_count": 60,
   "metadata": {},
   "outputs": [
    {
     "data": {
      "image/png": "[encoded data removed]",
      "text/plain": [
       "<Figure size 432x288 with 1 Axes>"
      ]
     },
     "metadata": {
      "needs_background": "light"
     },
     "output_type": "display_data"
    }
   ],
   "source": [
    "def plot_result(history):\n",
    "    plt.plot(history.history['accuracy'])\n",
    "    plt.plot(history.history['val_accuracy'])\n",
    "    plt.title('Model Performance')\n",
    "    plt.xlabel('epochs')\n",
    "    plt.ylabel('accuracy')\n",
    "    plt.legend(['Training Set', 'Validation Set'], loc = 'upper left')\n",
    "    plt.show\n",
    "    \n",
    "plot_result(history)\n",
    "model.save('my_model.h5')"
   ]
  },
  {
   "cell_type": "markdown",
   "metadata": {},
   "source": [
    "As we can see from the training results above, the model achieves a training set accuracy of 0.9828 and validation set accuracy of 0.9773. This means that the model should have satisfactory performance. We save the model in the project directory as 'my_model.h5'.\n",
    "\n",
    "## Model Testing\n",
    "\n",
    "The cell below helps us test the performance of our model. "
   ]
  },
  {
   "cell_type": "code",
   "execution_count": 56,
   "metadata": {
    "scrolled": true
   },
   "outputs": [
    {
     "name": "stdout",
     "output_type": "stream",
     "text": [
      "Escape hit, closing...\n"
     ]
    }
   ],
   "source": [
    "def calc_landmark_list(handedness, landmarks):\n",
    "    landmark_point_list = []\n",
    "\n",
    "    for landmark in landmarks:\n",
    "        landmark_x = landmark.x\n",
    "        landmark_y = landmark.y\n",
    "        landmark_z = landmark.z\n",
    "        landmark_point_list.append([landmark_x, landmark_y, landmark_z])\n",
    "    \n",
    "    landmark_point_list = np.array(landmark_point_list)\n",
    "    max_val = landmark_point_list.max(axis = 0)\n",
    "    min_val = landmark_point_list.min(axis = 0)\n",
    "    x_max, x_min, y_max, y_min = max_val[0], min_val[0], max_val[1], min_val[1]\n",
    "    x_diff = x_max - x_min\n",
    "    y_diff = y_max - y_min\n",
    "    landmark_point_list[:,0] = (landmark_point_list[:,0] - x_min)/x_diff\n",
    "    landmark_point_list[:,1] = (landmark_point_list[:,1] - y_min)/y_diff\n",
    "    landmark_point_list = landmark_point_list.reshape(63,)\n",
    "    landmark_list = np.insert(landmark_point_list, 0, handedness)    \n",
    "    return landmark_list\n",
    "\n",
    "model = keras.models.load_model('my_model.h5')\n",
    "mp_drawing = mp.solutions.drawing_utils\n",
    "mp_hands = mp.solutions.hands\n",
    "hands = mp_hands.Hands(max_num_hands = 1, min_detection_confidence = 0.7, min_tracking_confidence = 0.6)\n",
    "\n",
    "cam = cv2.VideoCapture(0)\n",
    "input_landmarks_list = np.array([])\n",
    "ex_count = 4\n",
    "while True:\n",
    "    valid, img = cam.read()\n",
    "    if not valid:\n",
    "        print(\"Failed to grab frame, closing..\")\n",
    "        break\n",
    "    height, width, channels = img.shape\n",
    "    img = cv2.cvtColor(cv2.flip(img, 1), cv2.COLOR_BGR2RGB)\n",
    "    img.flags.writeable = False # To improve performance, optionally mark the image as not writeable to pass by reference.\n",
    "    results = hands.process(img)\n",
    "    img.flags.writeable = True\n",
    "    img = cv2.cvtColor(img, cv2.COLOR_RGB2BGR)\n",
    "    # Draw the hand annotations on the image.\n",
    "    if(results.multi_hand_landmarks):\n",
    "        for hand_landmarks in results.multi_hand_landmarks:\n",
    "            mp_drawing.draw_landmarks(img, hand_landmarks, mp_hands.HAND_CONNECTIONS)\n",
    "            handedness = results.multi_handedness[0].classification[0].index\n",
    "            input_landmark_list = calc_landmark_list(handedness, hand_landmarks.landmark)\n",
    "            result = model.predict(x = np.array([input_landmark_list]))\n",
    "            \n",
    "            if np.argmax(result) < 5:\n",
    "                cv2.putText(img, class_names[np.argmax(result)], (int(width * 0.4), int(height * 0.15)), \n",
    "                            cv2.FONT_HERSHEY_SIMPLEX, 2, color = (0, 0, 255), thickness = 5)\n",
    "            \n",
    "        cv2.imshow(\"Landmark Hands\", img)\n",
    "\n",
    "    k = cv2.waitKey(1)\n",
    "    if k%256 == 27:\n",
    "        # ESC pressed\n",
    "        print(\"Escape hit, closing...\")\n",
    "        break\n",
    "    '''\n",
    "    if k%256 == 99:\n",
    "        ex_count += 1\n",
    "        print(ex_count)\n",
    "        cv2.imwrite('example_img/other/img_'+str(ex_count)+'.jpg', img)\n",
    "        print('img saved')\n",
    "    \n",
    "    if k%256 == 32:\n",
    "        if(results.multi_hand_landmarks):\n",
    "            for hand_landmarks in results.multi_hand_landmarks:\n",
    "                input_landmark_list = get_input_landmarks(hand_landmarks.landmark)\n",
    "                result = model.predict(x = np.array([input_landmark_list]))\n",
    "                print(str(class_names[np.argmax(result)]) + ' ' + str(result*100))\n",
    "    '''            \n",
    "hands.close()\n",
    "cam.release()\n",
    "cv2.destroyAllWindows()"
   ]
  }
 ],
 "metadata": {
  "kernelspec": {
   "display_name": "Python 3",
   "language": "python",
   "name": "python3"
  },
  "language_info": {
   "codemirror_mode": {
    "name": "ipython",
    "version": 3
   },
   "file_extension": ".py",
   "mimetype": "text/x-python",
   "name": "python",
   "nbconvert_exporter": "python",
   "pygments_lexer": "ipython3",
   "version": "3.8.5"
  }
 },
 "nbformat": 4,
 "nbformat_minor": 4
}
